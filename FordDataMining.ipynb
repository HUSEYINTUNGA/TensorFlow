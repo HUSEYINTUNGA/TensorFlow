{
 "cells": [
  {
   "cell_type": "code",
   "execution_count": 26,
   "metadata": {},
   "outputs": [],
   "source": [
    "import pandas as pd\n",
    "import numpy as np\n",
    "import matplotlib.pyplot as plt"
   ]
  },
  {
   "cell_type": "code",
   "execution_count": null,
   "metadata": {},
   "outputs": [],
   "source": [
    "ford=pd.read_csv(\"ford.csv\")\n",
    "ford.info()"
   ]
  },
  {
   "cell_type": "code",
   "execution_count": null,
   "metadata": {},
   "outputs": [],
   "source": [
    "fordData=pd.DataFrame(ford)\n",
    "fordData.dropna(inplace=True)\n",
    "fordData.describe(include='all')"
   ]
  },
  {
   "cell_type": "code",
   "execution_count": null,
   "metadata": {},
   "outputs": [],
   "source": [
    "fuel_counts = fordData['fuelType'].value_counts()\n",
    "fuel_counts"
   ]
  },
  {
   "cell_type": "markdown",
   "metadata": {},
   "source": [
    "### fuelType sütununda yalnızca 'Petrol' ve 'Diesel' olmak üzere iki farklı türe indirdik. Bunun sebebi diğer türlerde çok az sayıda veri satırı olduğu için modelin doğruluk oranını düşürecekti."
   ]
  },
  {
   "cell_type": "code",
   "execution_count": null,
   "metadata": {},
   "outputs": [],
   "source": [
    "fordData.drop(fordData[fordData['fuelType'].isin(['Hybrid','Electric', 'Other'])].index, inplace=True)\n",
    "fuel_counts = fordData['fuelType'].value_counts()\n",
    "fuel_counts"
   ]
  },
  {
   "cell_type": "markdown",
   "metadata": {},
   "source": [
    "### Veri setindeki 'fuelType' satırı string türünde veri içerdiği için bunları 0 ve 1 olmak üzere integer verilere dönüştürdük. Arkasında hiçbir matematik yok keyfi bir dönüştürme seçimi oldu.\n",
    "\n",
    "Petrol -> 0\n",
    "Diesel -> 1\n"
   ]
  },
  {
   "cell_type": "code",
   "execution_count": null,
   "metadata": {},
   "outputs": [],
   "source": [
    "FuelTypeDict={'Diesel':1,'Petrol':0}\n",
    "fordData['fuelType'] = fordData['fuelType'].map(FuelTypeDict)\n",
    "fordData.head(10)"
   ]
  },
  {
   "cell_type": "code",
   "execution_count": null,
   "metadata": {},
   "outputs": [],
   "source": [
    "TransType_counts = fordData['transmission'].value_counts()\n",
    "TransType_counts"
   ]
  },
  {
   "cell_type": "markdown",
   "metadata": {},
   "source": [
    "### Veri setindeki 'transmission' satırı string türünde veri içerdiği için bunları 0,1 ve 2 olmak üzere integer verilere dönüştürdük. Arkasında hiçbir matematik yok keyfi bir dönüştürme seçimi oldu.\n",
    "\n",
    "Semi-Auto -> 0\n",
    "Manual -> 1\n",
    "Automatic -> 2"
   ]
  },
  {
   "cell_type": "code",
   "execution_count": null,
   "metadata": {},
   "outputs": [],
   "source": [
    "TransmissionTypeDict={'Manual':1,'Automatic':2,'Semi-Auto':0}\n",
    "fordData['transmission'] = fordData['transmission'].map(TransmissionTypeDict)\n",
    "fordData.head(10)"
   ]
  },
  {
   "cell_type": "code",
   "execution_count": null,
   "metadata": {},
   "outputs": [],
   "source": [
    "model_counts = fordData['model'].value_counts()\n",
    "\n",
    "plt.bar(model_counts.index, model_counts.values)\n",
    "plt.xticks(rotation=90)\n",
    "plt.show()\n"
   ]
  },
  {
   "cell_type": "markdown",
   "metadata": {},
   "source": [
    " ##### Model türleri 4'e indirildi. Bunun sebebi ise diğer model türleri çok az sayıda veri satırı içeriyordu ve bu durum modelimizin doğruluk oranını düşürecekti. Kategori türlerinin ilk iki harfi ASCII kodlarına dönüştürüldü . Bunlar;\n",
    "“Fiesta” için “FI” harfleri 70 ve 73 ASCII kodlarına dönüşecektir.\n",
    "\n",
    "“Focus” için “FO” harfleri 70 ve 79 ASCII kodlarına dönüşecektir.\n",
    "\n",
    "“Kuga” için “KU” harfleri 75 ve 85 ASCII kodlarına dönüşecektir.\n",
    "\n",
    "“EcoSport” için “EC” harfleri 69 ve 67 ASCII kodlarına dönüşecektir.\n"
   ]
  },
  {
   "cell_type": "code",
   "execution_count": null,
   "metadata": {},
   "outputs": [],
   "source": [
    "models_to_keep = [' Fiesta', ' Focus', ' Kuga', ' EcoSport']\n",
    "fordData = fordData[fordData['model'].isin(models_to_keep)]\n",
    "model_to_ascii={' Fiesta':7073,' Focus':7079,' Kuga':7585,' EcoSport':6967}\n",
    "fordData['model'] = fordData['model'].map(model_to_ascii)\n",
    "model_counts = fordData['model'].value_counts()\n",
    "model_counts"
   ]
  },
  {
   "cell_type": "markdown",
   "metadata": {},
   "source": [
    "### Yıl grafiğinde bazı yıllara ait çok az sayıda veri vardı bu modelin doğruluk oranını düşüreceği için o veri satırlarını veri setinin içinden atmamız lazım!"
   ]
  },
  {
   "cell_type": "code",
   "execution_count": null,
   "metadata": {},
   "outputs": [],
   "source": [
    "year_counts = fordData['year'].value_counts()\n",
    "\n",
    "plt.bar(year_counts.index, year_counts.values)\n",
    "plt.xticks(rotation=90)\n",
    "plt.show()"
   ]
  },
  {
   "cell_type": "markdown",
   "metadata": {},
   "source": [
    "##### Bu şekilde verileri en çok dağılım gösterdiği yıllar arasında yer alan verilere indirgemiş olduk."
   ]
  },
  {
   "cell_type": "code",
   "execution_count": null,
   "metadata": {},
   "outputs": [],
   "source": [
    "fordData = fordData[(fordData['year'] >= 2013) & (fordData['year'] < 2020)]\n",
    "year_counts = fordData['year'].value_counts()\n",
    "\n",
    "plt.bar(year_counts.index, year_counts.values)\n",
    "plt.xticks(rotation=90)\n",
    "plt.show()"
   ]
  },
  {
   "cell_type": "markdown",
   "metadata": {},
   "source": [
    "### Dataframe'in model tarafından işlenebilir hale getirdikten sonra, 'fordData_Refined.csv' isimli dosyayı oluşturup  içerisine yazdırdık."
   ]
  },
  {
   "cell_type": "code",
   "execution_count": null,
   "metadata": {},
   "outputs": [],
   "source": [
    "fordData.to_csv('fordData_Refined.csv',index=False)\n",
    "fordData.describe(include='all')"
   ]
  },
  {
   "cell_type": "code",
   "execution_count": 39,
   "metadata": {},
   "outputs": [],
   "source": [
    "from sklearn.model_selection import train_test_split\n",
    "from sklearn.preprocessing import StandardScaler\n",
    "from sklearn.linear_model import LinearRegression\n",
    "from sklearn.metrics import mean_absolute_error, mean_squared_error, r2_score\n",
    "from sklearn.model_selection import train_test_split\n",
    "from sklearn.neural_network import MLPRegressor"
   ]
  },
  {
   "cell_type": "code",
   "execution_count": 40,
   "metadata": {},
   "outputs": [],
   "source": [
    "X = fordData[['model', 'year', 'transmission', 'mileage', 'fuelType', 'tax', 'mpg', 'engineSize']]\n",
    "y = fordData['price']\n",
    "\n",
    "X_train, X_test, y_train, y_test = train_test_split(X, y, test_size=0.3, random_state=42)\n",
    "\n",
    "scaler = StandardScaler()\n",
    "X_train_scaled = scaler.fit_transform(X_train)\n",
    "X_test_scaled = scaler.transform(X_test)"
   ]
  },
  {
   "cell_type": "code",
   "execution_count": null,
   "metadata": {},
   "outputs": [],
   "source": [
    "model = LinearRegression()\n",
    "model.fit(X_train_scaled, y_train)\n",
    "y_pred = model.predict(X_test_scaled)\n",
    "\n",
    "mae = mean_absolute_error(y_test, y_pred)\n",
    "mse = mean_squared_error(y_test, y_pred)\n",
    "r2 = r2_score(y_test, y_pred)\n",
    "\n",
    "print(f'Ortalama Mutlak Hata: {mae}')\n",
    "print(f'Ortalama Kare Hata: {mse}')\n",
    "print(f'R^2 Skoru: {r2}')"
   ]
  },
  {
   "cell_type": "code",
   "execution_count": null,
   "metadata": {},
   "outputs": [],
   "source": [
    "mlp_model = MLPRegressor(hidden_layer_sizes=(80, 70), max_iter=300, random_state=42)\n",
    "mlp_model.fit(X_train_scaled, y_train)\n",
    "y_pred = mlp_model.predict(X_test_scaled)\n",
    "\n",
    "mae = mean_absolute_error(y_test, y_pred)\n",
    "mse = mean_squared_error(y_test, y_pred)\n",
    "r2 = r2_score(y_test, y_pred)\n",
    "\n",
    "print(f'Ortalama Mutlak Hata: {mae}')\n",
    "print(f'Ortalama Kare Hata: {mse}')\n",
    "print(f'R^2 Skoru: {r2}')"
   ]
  },
  {
   "cell_type": "code",
   "execution_count": 43,
   "metadata": {},
   "outputs": [],
   "source": [
    "from tensorflow.keras.models import Sequential # type: ignore\n",
    "from tensorflow.keras.layers import Dense # type: ignore\n",
    "from tensorflow.keras.optimizers import Adam # type: ignore"
   ]
  },
  {
   "cell_type": "code",
   "execution_count": null,
   "metadata": {},
   "outputs": [],
   "source": [
    "\n",
    "model = Sequential()\n",
    "\n",
    "model.add(Dense(128, input_dim=X_train_scaled.shape[1], activation='relu'))\n",
    "\n",
    "model.add(Dense(64, activation='relu'))\n",
    "\n",
    "model.add(Dense(32, activation='relu'))\n",
    "\n",
    "model.add(Dense(1))\n",
    "\n",
    "model.compile(optimizer=Adam(learning_rate=0.001), loss='mean_squared_error')\n",
    "\n",
    "model.fit(X_train_scaled, y_train, epochs=100, batch_size=30, validation_split=0.2, verbose=1)\n",
    "\n",
    "y_pred = model.predict(X_test_scaled)\n",
    "\n",
    "mae = mean_absolute_error(y_test, y_pred)\n",
    "mse = mean_squared_error(y_test, y_pred)\n",
    "r2 = r2_score(y_test, y_pred)\n",
    "\n",
    "print(f'Ortalama Mutlak Hata: {mae}')\n",
    "print(f'Ortalama Kare Hata: {mse}')\n",
    "print(f'R^2 Skoru: {r2}')\n"
   ]
  }
 ],
 "metadata": {
  "kernelspec": {
   "display_name": "Python 3",
   "language": "python",
   "name": "python3"
  },
  "language_info": {
   "codemirror_mode": {
    "name": "ipython",
    "version": 3
   },
   "file_extension": ".py",
   "mimetype": "text/x-python",
   "name": "python",
   "nbconvert_exporter": "python",
   "pygments_lexer": "ipython3",
   "version": "3.12.2"
  }
 },
 "nbformat": 4,
 "nbformat_minor": 2
}
